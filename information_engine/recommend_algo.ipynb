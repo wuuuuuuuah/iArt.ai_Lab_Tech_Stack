{
 "cells": [
  {
   "cell_type": "code",
   "execution_count": 1,
   "metadata": {},
   "outputs": [],
   "source": [
    "with open('../../my_key.txt') as f:\n",
    "    key_list = f.readlines()\n",
    "\n",
    "key_list = [key.strip() for key in key_list]\n",
    "\n",
    "keys = {}\n",
    "for key in key_list:\n",
    "    key = key.split(':')\n",
    "    if (key != ['']):\n",
    "        keys[key[0]] = key[1]"
   ]
  },
  {
   "cell_type": "code",
   "execution_count": 2,
   "metadata": {},
   "outputs": [],
   "source": [
    "import os\n",
    "os.environ['OPENAI_API_KEY'] = keys['OPENAI_API_KEY']"
   ]
  },
  {
   "attachments": {},
   "cell_type": "markdown",
   "metadata": {},
   "source": [
    "# Recommand Algorithm\n",
    "- Objectives:\n",
    "    - To give a recommand learning flow with the giving web info\n",
    "- I/O\n",
    "    - Input: Text\n",
    "    - Output: Plan (Text)\n",
    "- Performance:\n",
    "    - Runtime:"
   ]
  },
  {
   "cell_type": "code",
   "execution_count": 3,
   "metadata": {},
   "outputs": [],
   "source": [
    "with open('text_to_ra.txt', 'r') as f:\n",
    "    text_to_ra = f.read()\n",
    "# print(text_to_ra)"
   ]
  },
  {
   "attachments": {},
   "cell_type": "markdown",
   "metadata": {},
   "source": [
    "## Tokens count "
   ]
  },
  {
   "cell_type": "code",
   "execution_count": 4,
   "metadata": {},
   "outputs": [],
   "source": [
    "import tiktoken\n",
    "\n",
    "encoding = tiktoken.encoding_for_model(\"gpt-3.5-turbo\")"
   ]
  },
  {
   "cell_type": "code",
   "execution_count": 5,
   "metadata": {},
   "outputs": [
    {
     "name": "stdout",
     "output_type": "stream",
     "text": [
      "561\n"
     ]
    }
   ],
   "source": [
    "num_tokens = len(encoding.encode(text_to_ra))\n",
    "print(num_tokens)"
   ]
  },
  {
   "attachments": {},
   "cell_type": "markdown",
   "metadata": {},
   "source": [
    "## Text Processing\n",
    "- Might be remove when synthesizing code"
   ]
  },
  {
   "cell_type": "code",
   "execution_count": 6,
   "metadata": {},
   "outputs": [],
   "source": [
    "lines = text_to_ra.split('\\n')\n",
    "query = lines[0]\n",
    "content = '\\n'.join(lines[1:]).strip()"
   ]
  },
  {
   "attachments": {},
   "cell_type": "markdown",
   "metadata": {},
   "source": [
    "## Flow Generation\n",
    "- With OpenAI API: gpt-3.5-turbo"
   ]
  },
  {
   "cell_type": "code",
   "execution_count": 7,
   "metadata": {},
   "outputs": [],
   "source": [
    "import openai\n",
    "import time\n",
    "\n",
    "openai.organization = keys['OPENAI_ORGANIZATION']\n",
    "openai.api_key = os.getenv('OPENAI_API_KEY')\n",
    "# openai.Model.list()"
   ]
  },
  {
   "cell_type": "code",
   "execution_count": 8,
   "metadata": {},
   "outputs": [],
   "source": [
    "# Prompt Engineering\n",
    "sys_prompt = \"You are consultant to help user make a study plan\"\n",
    "\n",
    "instruction1 = f\"\"\"My query is '{query}'. You would be provided with webpages from google search. \n",
    "You need to make a plan about taking what steps to read those webpages so I could get the most relavent information.\n",
    "\"\"\"\n",
    "instruction2 = \"Ok, I would firstly read the information and make plan with sequence of 1,2,3\"\n",
    "\n",
    "usr_prompt = f\"\"\"\n",
    "The webpages information is:\n",
    "{content}\n",
    "\"\"\"\n"
   ]
  },
  {
   "cell_type": "code",
   "execution_count": 9,
   "metadata": {},
   "outputs": [
    {
     "name": "stdout",
     "output_type": "stream",
     "text": [
      "24.563100337982178\n"
     ]
    }
   ],
   "source": [
    "\n",
    "start = time.time()\n",
    "response = openai.ChatCompletion.create(\n",
    "    model = 'gpt-3.5-turbo',\n",
    "    messages = [\n",
    "        {\"role\": \"system\", \"content\": f'{sys_prompt}'},\n",
    "        {\"role\": 'user', \"content\": instruction1},\n",
    "        {\"role\": 'assistant', \"content\": instruction2},\n",
    "        {\"role\": 'user', 'content': f'{usr_prompt}'},\n",
    "    ],\n",
    "    # max_tokens = 2000,\n",
    "    # stream = True\n",
    ")\n",
    "end = time.time()\n",
    "\n",
    "print(end-start)"
   ]
  },
  {
   "cell_type": "code",
   "execution_count": 10,
   "metadata": {},
   "outputs": [
    {
     "data": {
      "text/plain": [
       "<OpenAIObject chat.completion id=chatcmpl-7P6YlHjOplldVL1WpE2rnvvWZP5fM at 0x7f48917d2e10> JSON: {\n",
       "  \"choices\": [\n",
       "    {\n",
       "      \"finish_reason\": \"stop\",\n",
       "      \"index\": 0,\n",
       "      \"message\": {\n",
       "        \"content\": \"Here is a plan to read those webpages in sequence:\\n\\n1. Firstly, start with the Wikipedia page on \\\"Acquisition of Twitter by Elon Musk,\\\" as it will provide an overview of events surrounding Musk's takeover of the social media platform.\\n\\n2. Next,dive into \\\"Why Elon Musk Bought Twitter\\\" from The New Yorker, because it provides a more in-depth analysis of Musk's motivations for making the purchase.\\n\\n3. For more details about Musk's involvement in the acquisition, proceed to \\\"Elon Musk bought Twitter. Here's what he says he'll do next\\\" by NPR.\\n\\n4. After that, read \\\"Hate Speech's Rise on Twitter Under Elon Musk Is Unprecedented,\\\" published by a news website, as it sheds light on the negative impact of Musk's ownership on Twitter.\\n\\n5. To get information on Musk's interest in Twitter as early as 2017, access the \\\"Elon Musk\\\" Wikipedia page.\\n\\n6. Learn about the technicalities of the acquisition and its aftermath by going through \\\"Elon Musk has taken control of Twitter and fired its top executives.\\\"\\n\\n7. If interested in the Twitter Blue subscription service, you can read \\\"About Twitter Blue\\\" to learn more.\\n\\n8. Lastly, to understand Elon Musk's activities on Twitter, you can access his Twitter handle \\\"Elon Musk (@elonmusk) / Twitter.\\\"\",\n",
       "        \"role\": \"assistant\"\n",
       "      }\n",
       "    }\n",
       "  ],\n",
       "  \"created\": 1686217771,\n",
       "  \"id\": \"chatcmpl-7P6YlHjOplldVL1WpE2rnvvWZP5fM\",\n",
       "  \"model\": \"gpt-3.5-turbo-0301\",\n",
       "  \"object\": \"chat.completion\",\n",
       "  \"usage\": {\n",
       "    \"completion_tokens\": 274,\n",
       "    \"prompt_tokens\": 664,\n",
       "    \"total_tokens\": 938\n",
       "  }\n",
       "}"
      ]
     },
     "execution_count": 10,
     "metadata": {},
     "output_type": "execute_result"
    }
   ],
   "source": [
    "response"
   ]
  },
  {
   "cell_type": "code",
   "execution_count": 15,
   "metadata": {},
   "outputs": [
    {
     "name": "stdout",
     "output_type": "stream",
     "text": [
      "Here is a plan to read those webpages in sequence:\n",
      "\n",
      "1. Firstly, start with the Wikipedia page on \"Acquisition of Twitter by Elon Musk,\" as it will provide an overview of events surrounding Musk's takeover of the social media platform.\n",
      "\n",
      "2. Next,dive into \"Why Elon Musk Bought Twitter\" from The New Yorker, because it provides a more in-depth analysis of Musk's motivations for making the purchase.\n",
      "\n",
      "3. For more details about Musk's involvement in the acquisition, proceed to \"Elon Musk bought Twitter. Here's what he says he'll do next\" by NPR.\n",
      "\n",
      "4. After that, read \"Hate Speech's Rise on Twitter Under Elon Musk Is Unprecedented,\" published by a news website, as it sheds light on the negative impact of Musk's ownership on Twitter.\n",
      "\n",
      "5. To get information on Musk's interest in Twitter as early as 2017, access the \"Elon Musk\" Wikipedia page.\n",
      "\n",
      "6. Learn about the technicalities of the acquisition and its aftermath by going through \"Elon Musk has taken control of Twitter and fired its top executives.\"\n",
      "\n",
      "7. If interested in the Twitter Blue subscription service, you can read \"About Twitter Blue\" to learn more.\n",
      "\n",
      "8. Lastly, to understand Elon Musk's activities on Twitter, you can access his Twitter handle \"Elon Musk (@elonmusk) / Twitter.\"\n"
     ]
    }
   ],
   "source": [
    "print(response.choices[0]['message']['content'])"
   ]
  }
 ],
 "metadata": {
  "kernelspec": {
   "display_name": "SemanticKernel",
   "language": "python",
   "name": "python3"
  },
  "language_info": {
   "codemirror_mode": {
    "name": "ipython",
    "version": 3
   },
   "file_extension": ".py",
   "mimetype": "text/x-python",
   "name": "python",
   "nbconvert_exporter": "python",
   "pygments_lexer": "ipython3",
   "version": "3.11.3"
  },
  "orig_nbformat": 4
 },
 "nbformat": 4,
 "nbformat_minor": 2
}
