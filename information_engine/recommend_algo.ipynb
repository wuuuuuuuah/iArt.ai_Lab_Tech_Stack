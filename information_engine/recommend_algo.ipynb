{
 "cells": [
  {
   "cell_type": "code",
   "execution_count": 3,
   "metadata": {},
   "outputs": [],
   "source": [
    "with open('../../my_key.txt') as f:\n",
    "    key_list = f.readlines()\n",
    "\n",
    "key_list = [key.strip() for key in key_list]\n",
    "\n",
    "keys = {}\n",
    "for key in key_list:\n",
    "    key = key.split(':')\n",
    "    if (key != ['']):\n",
    "        keys[key[0]] = key[1]"
   ]
  },
  {
   "cell_type": "code",
   "execution_count": 4,
   "metadata": {},
   "outputs": [],
   "source": [
    "import os\n",
    "os.environ['OPENAI_API_KEY'] = keys['OPENAI_API_KEY']"
   ]
  },
  {
   "attachments": {},
   "cell_type": "markdown",
   "metadata": {},
   "source": [
    "# Recommand Algorithm\n",
    "- Objectives:\n",
    "    - To give a recommand learning flow with the giving web info\n",
    "- I/O\n",
    "    - Input: Text\n",
    "    - Output: Plan (Text)\n",
    "- Performance:\n",
    "    - Runtime:"
   ]
  },
  {
   "cell_type": "code",
   "execution_count": 10,
   "metadata": {},
   "outputs": [
    {
     "name": "stdout",
     "output_type": "stream",
     "text": [
      "Why Elon Musk bought twitter?\n",
      "source: url0 - title: Acquisition of Twitter by Elon Musk - Wikipedia - snippet:Musk had begun buying shares of the company in January 2022, becoming its largest shareholder by April with a 9.1 percent ownership stake. Twitter invited ...\n",
      "source: url1 - title: Hate Speech's Rise on Twitter Under Elon Musk Is Unprecedented ... - snippet:Dec 2, 2022 ... Hate Speech's Rise on Twitter Is Unprecedented, Researchers Find ... Before Elon Musk bought Twitter, slurs against Black Americans showed ...\n",
      "source: url2 - title: Why Elon Musk Bought Twitter | The New Yorker - snippet:Apr 26, 2022 ... Why do you think Elon Musk is buying Twitter? I assume it's because he has some genuine set of political and social beliefs about how Twitter ...\n",
      "source: url3 - title: Elon Musk - Wikipedia - snippet:Elon Reeve Musk is a business magnate and investor. He is the founder, CEO and chief ... Musk expressed interest in buying Twitter as early as 2017, ...\n",
      "source: url4 - title: Elon Musk has taken control of Twitter and fired its top executives ... - snippet:Oct 28, 2022 ... Elon Musk has completed his $44 billion deal to buy Twitter, a source familiar with the deal told CNN ... Elon Musk just bought Twitter.\n",
      "source: url5 - title: What Elon Musk will likely do with Twitter if he buys it : NPR - snippet:Oct 7, 2022 ... Billionaire Elon Musk's on-again, off-again bid to acquire Twitter advanced this week after he agreed to pay the $44 billion he had ...\n",
      "source: url6 - title: Elon Musk (@elonmusk) / Twitter - snippet:And on June 6, the Dragon 2 fleet's cumulative time in space surpassed the Space Shuttle fleet's time with 1,324 total days in orbit!\n",
      "source: url7 - title: Elon Musk bought Twitter. Here's what he says he'll do next : NPR - snippet:Apr 25, 2022 ... Twitter on Monday announced it has accepted billionaire Elon Musk's bid to takeover the social media company for $44 billion.\n",
      "source: url8 - title: Elon Musk says he's found a new CEO to lead Twitter | PBS NewsHour - snippet:May 11, 2023 ... SpaceX owner and Tesla CEO Elon Musk speaks during a conversation with ... Musk, who bought Twitter last fall and has been running it since, ...\n",
      "source: url9 - title: About Twitter Blue - snippet:Prioritized rankings in conversations and search: Tweets that you interact with ... Longer Tweets allow Blue subscribers to Tweet up to 10,000 characters.\n",
      "\n"
     ]
    }
   ],
   "source": [
    "with open('text_to_ra.txt', 'r') as f:\n",
    "    text_to_ra = f.read()\n",
    "# print(text_to_ra)"
   ]
  },
  {
   "attachments": {},
   "cell_type": "markdown",
   "metadata": {},
   "source": [
    "## Tokens count "
   ]
  },
  {
   "cell_type": "code",
   "execution_count": 6,
   "metadata": {},
   "outputs": [],
   "source": [
    "import tiktoken\n",
    "\n",
    "encoding = tiktoken.encoding_for_model(\"gpt-3.5-turbo\")"
   ]
  },
  {
   "cell_type": "code",
   "execution_count": 8,
   "metadata": {},
   "outputs": [
    {
     "name": "stdout",
     "output_type": "stream",
     "text": [
      "563\n"
     ]
    }
   ],
   "source": [
    "num_tokens = len(encoding.encode(text_to_ra))\n",
    "print(num_tokens)"
   ]
  },
  {
   "attachments": {},
   "cell_type": "markdown",
   "metadata": {},
   "source": [
    "## Text Processing\n",
    "- Might be remove when synthesizing code"
   ]
  },
  {
   "cell_type": "code",
   "execution_count": 13,
   "metadata": {},
   "outputs": [],
   "source": [
    "lines = text_to_ra.split('\\n')\n",
    "query = lines[0]\n",
    "content = '\\n'.join(lines[1:]).strip()"
   ]
  },
  {
   "attachments": {},
   "cell_type": "markdown",
   "metadata": {},
   "source": [
    "## Flow Generation\n",
    "- With OpenAI API: gpt-3.5-turbo"
   ]
  },
  {
   "cell_type": "code",
   "execution_count": 16,
   "metadata": {},
   "outputs": [],
   "source": [
    "import openai\n",
    "import time\n",
    "\n",
    "openai.organization = keys['OPENAI_ORGANIZATION']\n",
    "openai.api_key = os.getenv('OPENAI_API_KEY')\n",
    "# openai.Model.list()"
   ]
  },
  {
   "cell_type": "code",
   "execution_count": 14,
   "metadata": {},
   "outputs": [],
   "source": [
    "# Prompt Engineering\n",
    "sys_prompt = \"You are consultant to help user make a study plan\"\n",
    "\n",
    "instruction1 = f\"\"\"My query is '{query}'. You would be provided with webpages from google search. \n",
    "You need to make a plan about taking what steps to read those webpages so I could get the most relavent information.\n",
    "\"\"\"\n",
    "instruction2 = \"Ok, I would firstly read the information and make plan with sequence of 1,2,3\"\n",
    "\n",
    "usr_prompt = f\"\"\"\n",
    "The webpages information is:\n",
    "{content}\n",
    "\"\"\"\n"
   ]
  },
  {
   "cell_type": "code",
   "execution_count": null,
   "metadata": {},
   "outputs": [],
   "source": [
    "\n",
    "start = time.time()\n",
    "response = openai.ChatCompletion.create(\n",
    "    model = 'gpt-3.5-turbo',\n",
    "    messages = [\n",
    "        {\"role\": \"system\", \"content\": f'{sys_prompt}'},\n",
    "        {\"role\": 'user', \"content\": instruction1},\n",
    "        {\"role\": 'assistant', \"content\": instruction2},\n",
    "        {\"role\": 'user', 'content': f'{usr_prompt}'},\n",
    "    ],\n",
    "    # max_tokens = 2000,\n",
    "    # stream = True\n",
    ")\n",
    "end = time.time()\n",
    "\n",
    "print(end-start)"
   ]
  },
  {
   "cell_type": "code",
   "execution_count": null,
   "metadata": {},
   "outputs": [],
   "source": [
    "response"
   ]
  }
 ],
 "metadata": {
  "kernelspec": {
   "display_name": "SemanticKernel",
   "language": "python",
   "name": "python3"
  },
  "language_info": {
   "codemirror_mode": {
    "name": "ipython",
    "version": 3
   },
   "file_extension": ".py",
   "mimetype": "text/x-python",
   "name": "python",
   "nbconvert_exporter": "python",
   "pygments_lexer": "ipython3",
   "version": "3.11.3"
  },
  "orig_nbformat": 4
 },
 "nbformat": 4,
 "nbformat_minor": 2
}
