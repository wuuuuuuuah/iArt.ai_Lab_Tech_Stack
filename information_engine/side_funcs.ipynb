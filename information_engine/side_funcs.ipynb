{
 "cells": [
  {
   "attachments": {},
   "cell_type": "markdown",
   "metadata": {},
   "source": [
    "## URL Match"
   ]
  },
  {
   "cell_type": "code",
   "execution_count": 5,
   "metadata": {},
   "outputs": [],
   "source": [
    "response = ['This', ' is', ' an', ' example', ' [[', 'url', '1', ']]']\n",
    "url_list = [\n",
    "    'https://www.google.com',\n",
    "    'https://www.scholar.google.com',\n",
    "    'https://www.youtube.com'\n",
    "]"
   ]
  },
  {
   "cell_type": "code",
   "execution_count": 6,
   "metadata": {},
   "outputs": [
    {
     "name": "stdout",
     "output_type": "stream",
     "text": [
      "This\n",
      " is an example\n",
      " [[url1:https://www.scholar.google.com]]\n"
     ]
    }
   ],
   "source": [
    "# Tokenization of Number: 0 -> 15, 1 -> 16, ..., 5 -> 20\n",
    "i = 0\n",
    "j = 0\n",
    "NUM_TOKEN_OUT = 3\n",
    "text_chunk = ''\n",
    "\n",
    "# in OpenAI Reponse: chunk['choices'][0]['delta']['content']\n",
    "for chunk in response:\n",
    "    try:\n",
    "        if (chunk == ' [['):\n",
    "            j += 1\n",
    "        text_chunk += chunk\n",
    "        if (j == 1):\n",
    "            j += 1\n",
    "        elif (j == 2): \n",
    "            text_chunk += f':{url_list[int(chunk)]}'\n",
    "        if (i % NUM_TOKEN_OUT == 0):\n",
    "            print(text_chunk)\n",
    "            text_chunk = ''\n",
    "        i += 1\n",
    "    except:\n",
    "        pass\n",
    "print(text_chunk)"
   ]
  }
 ],
 "metadata": {
  "kernelspec": {
   "display_name": "SemanticKernel",
   "language": "python",
   "name": "python3"
  },
  "language_info": {
   "codemirror_mode": {
    "name": "ipython",
    "version": 3
   },
   "file_extension": ".py",
   "mimetype": "text/x-python",
   "name": "python",
   "nbconvert_exporter": "python",
   "pygments_lexer": "ipython3",
   "version": "3.11.3"
  },
  "orig_nbformat": 4
 },
 "nbformat": 4,
 "nbformat_minor": 2
}
